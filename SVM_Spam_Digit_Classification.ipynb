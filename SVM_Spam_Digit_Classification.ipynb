{
 "cells": [
  {
   "cell_type": "markdown",
   "metadata": {},
   "source": [
    "# Support Vector Machines"
   ]
  },
  {
   "cell_type": "code",
   "execution_count": 66,
   "metadata": {
    "collapsed": true
   },
   "outputs": [],
   "source": [
    "from sklearn import svm \n",
    "import scipy.io\n",
    "import numpy as np\n",
    "import random\n",
    "import matplotlib.pyplot as plt\n",
    "%matplotlib inline\n",
    "from sklearn.metrics import confusion_matrix\n",
    "from sklearn import cross_validation\n",
    "import csv"
   ]
  },
  {
   "cell_type": "markdown",
   "metadata": {},
   "source": [
    "#### Loading in the datasets"
   ]
  },
  {
   "cell_type": "code",
   "execution_count": 67,
   "metadata": {
    "collapsed": false
   },
   "outputs": [],
   "source": [
    "##need to train and load digit data\n",
    "dataset_training=scipy.io.loadmat('data/digit-dataset/train.mat')\n",
    "\n",
    "\n",
    "###need to train and load spam/ham data\n",
    "spam_ham_data = scipy.io.loadmat('data/spam-dataset/spam_data.mat')\n",
    "spam_ham_labels = spam_ham_data['training_labels']\n",
    "spam_ham_training = spam_ham_data['training_data']\n"
   ]
  },
  {
   "cell_type": "code",
   "execution_count": 68,
   "metadata": {
    "collapsed": true
   },
   "outputs": [],
   "source": [
    "##loading in testing data for spam\n",
    "digit_testing = np.transpose(scipy.io.loadmat('data/digit-dataset/test.mat')['test_images'], (2,1,0))\n",
    "digit_testing_flattened= np.zeros((10000,784))\n",
    "dtf = 0\n",
    "for dtInd in range(0,10000):\n",
    "    digit_testing_flattened[dtf] = digit_testing[:,:,dtInd].reshape(784)\n",
    "    dtf = dtf+1"
   ]
  },
  {
   "cell_type": "markdown",
   "metadata": {},
   "source": [
    "## Problem 1 & Problem 2\n",
    "#### Following code used to reshape and flatten the digit training set"
   ]
  },
  {
   "cell_type": "code",
   "execution_count": 69,
   "metadata": {
    "collapsed": false
   },
   "outputs": [],
   "source": [
    "##need to reshape data to be able to use the SVC algorithm \n",
    "dataset_training_images = dataset_training['train_images'] ##is a [60000,28,28] matrix\n",
    "dataset_training_labels = dataset_training['train_labels'] ##row of 60000\n",
    "\n",
    "##creating validation data set \n",
    "## initializes zero matrices in numpy \n",
    "validation_indeces = random.sample(range(0,60000), 10000)\n",
    "\n",
    "new_training_data = np.zeros((50000,784))\n",
    "training_labels = np.zeros(50000)\n",
    "\n",
    "validation_data= np.zeros((10000,784))\n",
    "validation_labels = np.zeros(10000)\n",
    "\n",
    "tdata_i = 0\n",
    "vdata_i = 0\n",
    "\n",
    "for ind in range(0,60000):\n",
    "\tif ind in validation_indeces:\n",
    "\t\tvalidation_data[vdata_i] = dataset_training_images[:,:,ind].reshape(784)\n",
    "\t\tvalidation_labels[vdata_i] = dataset_training_labels[ind]\n",
    "\t\tvdata_i = vdata_i + 1 \n",
    "\telse:\n",
    "\t\tnew_training_data[tdata_i] = dataset_training_images[:,:,ind].reshape(784)\n",
    "\t\ttraining_labels[tdata_i] = dataset_training_labels[ind]\n",
    "\t\ttdata_i = tdata_i + 1\n",
    "\n",
    "\n",
    "\n"
   ]
  },
  {
   "cell_type": "markdown",
   "metadata": {},
   "source": [
    "#### The following definition is used to generate the confusion matrices for Problem 2. "
   ]
  },
  {
   "cell_type": "code",
   "execution_count": 70,
   "metadata": {
    "collapsed": true
   },
   "outputs": [],
   "source": [
    "###need to plot confusion matrix\n",
    "classification_names = [\"0\",\"1\",\"2\",\"3\",\"4\",\"5\",\"6\",\"7\",\"8\",\"9\"]\n",
    "def plot_confusion_matrix(cm, title='Confusion matrix', cmap=plt.cm.Blues):\n",
    "    plt.imshow(cm, interpolation='nearest', cmap=cmap)\n",
    "    plt.title(title)\n",
    "    plt.colorbar()\n",
    "    tick_marks = np.arange(len(classification_names))\n",
    "    plt.xticks(tick_marks,classification_names, rotation=45)\n",
    "    plt.yticks(tick_marks, classification_names)\n",
    "    plt.tight_layout()\n",
    "    plt.ylabel('True label')\n",
    "    plt.xlabel('Predicted label')\n"
   ]
  },
  {
   "cell_type": "markdown",
   "metadata": {},
   "source": [
    "#### The following segments split up the training data into the desired sample amounts and trains the SVM model with each sample.\n",
    "#### The samples were also used to create cross validation sets and generate confusion matrices. "
   ]
  },
  {
   "cell_type": "code",
   "execution_count": 71,
   "metadata": {
    "collapsed": true
   },
   "outputs": [],
   "source": [
    "###want to go through and get 100, 200, 500, 1000, 2000, 5000, 10000 samples from training to run cross validation \n",
    "##training the data -- need to randomly sample within the split data set:\n",
    "numSamples = [100, 200, 500, 1000, 2000, 5000, 10000]\n",
    "training10000=[]\n",
    "storedErrorRates = []\n",
    "predictedValues = []"
   ]
  },
  {
   "cell_type": "code",
   "execution_count": 72,
   "metadata": {
    "collapsed": false
   },
   "outputs": [
    {
     "name": "stdout",
     "output_type": "stream",
     "text": [
      "we're on sample:\n",
      "100\n",
      "Normalized confusion matrix\n",
      "[[ 1.          0.          0.          0.          0.          0.          0.\n",
      "   0.          0.          0.        ]\n",
      " [ 0.          0.57142857  0.07142857  0.          0.          0.07142857\n",
      "   0.          0.21428571  0.07142857  0.        ]\n",
      " [ 0.          0.          0.8         0.          0.          0.          0.1\n",
      "   0.          0.1         0.        ]\n",
      " [ 0.          0.          0.08333333  0.75        0.          0.08333333\n",
      "   0.          0.08333333  0.          0.        ]\n",
      " [ 0.          0.05        0.          0.          0.65        0.05        0.05\n",
      "   0.05        0.          0.15      ]\n",
      " [ 0.11111111  0.          0.          0.          0.          0.66666667\n",
      "   0.11111111  0.11111111  0.          0.        ]\n",
      " [ 0.          0.          0.09090909  0.          0.          0.\n",
      "   0.81818182  0.          0.09090909  0.        ]\n",
      " [ 0.          0.          0.          0.          0.1         0.          0.\n",
      "   0.8         0.          0.1       ]\n",
      " [ 0.          0.          0.25        0.          0.          0.          0.\n",
      "   0.          0.75        0.        ]\n",
      " [ 0.          0.          0.          0.          0.          0.          0.\n",
      "   0.          0.2         0.8       ]]\n"
     ]
    },
    {
     "data": {
      "image/png": "[encoded data removed]",
      "text/plain": [
       "<matplotlib.figure.Figure at 0x12dca8650>"
      ]
     },
     "metadata": {},
     "output_type": "display_data"
    },
    {
     "name": "stdout",
     "output_type": "stream",
     "text": [
      "we're on sample:\n",
      "200\n",
      "Normalized confusion matrix\n",
      "[[ 0.87096774  0.          0.03225806  0.03225806  0.          0.          0.\n",
      "   0.          0.03225806  0.03225806]\n",
      " [ 0.          0.67647059  0.02941176  0.          0.05882353  0.08823529\n",
      "   0.          0.05882353  0.08823529  0.        ]\n",
      " [ 0.          0.          0.68421053  0.05263158  0.          0.\n",
      "   0.15789474  0.05263158  0.          0.05263158]\n",
      " [ 0.          0.          0.          0.75        0.          0.1875      0.\n",
      "   0.0625      0.          0.        ]\n",
      " [ 0.          0.          0.          0.          0.71428571  0.07142857\n",
      "   0.07142857  0.          0.          0.14285714]\n",
      " [ 0.          0.          0.          0.08333333  0.          0.83333333\n",
      "   0.          0.08333333  0.          0.        ]\n",
      " [ 0.05555556  0.          0.05555556  0.          0.05555556  0.05555556\n",
      "   0.66666667  0.          0.11111111  0.        ]\n",
      " [ 0.          0.09090909  0.          0.          0.          0.          0.\n",
      "   0.81818182  0.          0.09090909]\n",
      " [ 0.          0.05555556  0.05555556  0.05555556  0.          0.16666667\n",
      "   0.05555556  0.          0.61111111  0.        ]\n",
      " [ 0.          0.          0.03703704  0.          0.18518519  0.07407407\n",
      "   0.          0.03703704  0.03703704  0.62962963]]\n"
     ]
    },
    {
     "data": {
      "image/png": "[encoded data removed]",
      "text/plain": [
       "<matplotlib.figure.Figure at 0x10f73ae90>"
      ]
     },
     "metadata": {},
     "output_type": "display_data"
    },
    {
     "name": "stdout",
     "output_type": "stream",
     "text": [
      "we're on sample:\n",
      "500\n",
      "Normalized confusion matrix\n",
      "[[ 0.83870968  0.          0.0483871   0.03225806  0.          0.03225806\n",
      "   0.01612903  0.          0.          0.03225806]\n",
      " [ 0.0125      0.7875      0.0125      0.0125      0.025       0.025\n",
      "   0.0125      0.025       0.075       0.0125    ]\n",
      " [ 0.          0.          0.83673469  0.06122449  0.          0.\n",
      "   0.02040816  0.02040816  0.06122449  0.        ]\n",
      " [ 0.02380952  0.          0.02380952  0.78571429  0.          0.07142857\n",
      "   0.          0.          0.07142857  0.02380952]\n",
      " [ 0.01960784  0.          0.03921569  0.          0.82352941  0.01960784\n",
      "   0.03921569  0.01960784  0.          0.03921569]\n",
      " [ 0.          0.          0.          0.13333333  0.          0.8         0.\n",
      "   0.          0.03333333  0.03333333]\n",
      " [ 0.          0.          0.04545455  0.          0.          0.06818182\n",
      "   0.84090909  0.          0.02272727  0.02272727]\n",
      " [ 0.          0.          0.          0.01612903  0.          0.03225806\n",
      "   0.          0.87096774  0.          0.08064516]\n",
      " [ 0.          0.          0.02777778  0.08333333  0.          0.02777778\n",
      "   0.          0.          0.80555556  0.05555556]\n",
      " [ 0.          0.          0.          0.          0.15909091  0.          0.\n",
      "   0.06818182  0.02272727  0.75      ]]\n"
     ]
    },
    {
     "data": {
      "image/png": "[encoded data removed]",
      "text/plain": [
       "<matplotlib.figure.Figure at 0x1091ded90>"
      ]
     },
     "metadata": {},
     "output_type": "display_data"
    },
    {
     "name": "stdout",
     "output_type": "stream",
     "text": [
      "we're on sample:\n",
      "1000\n",
      "Normalized confusion matrix\n",
      "[[ 0.90909091  0.          0.          0.          0.          0.05050505\n",
      "   0.          0.02020202  0.          0.02020202]\n",
      " [ 0.          0.83035714  0.          0.02678571  0.00892857  0.          0.\n",
      "   0.00892857  0.08928571  0.03571429]\n",
      " [ 0.          0.          0.85        0.04        0.          0.02        0.01\n",
      "   0.01        0.06        0.01      ]\n",
      " [ 0.          0.          0.01886792  0.78301887  0.          0.02830189\n",
      "   0.          0.02830189  0.12264151  0.01886792]\n",
      " [ 0.          0.          0.01834862  0.          0.76146789  0.01834862\n",
      "   0.00917431  0.05504587  0.04587156  0.09174312]\n",
      " [ 0.          0.          0.          0.125       0.          0.75961538\n",
      "   0.01923077  0.          0.08653846  0.00961538]\n",
      " [ 0.          0.          0.03614458  0.02409639  0.03614458  0.01204819\n",
      "   0.87951807  0.          0.01204819  0.        ]\n",
      " [ 0.          0.          0.          0.01010101  0.          0.          0.\n",
      "   0.84848485  0.04040404  0.1010101 ]\n",
      " [ 0.          0.01190476  0.05952381  0.04761905  0.          0.03571429\n",
      "   0.03571429  0.01190476  0.78571429  0.01190476]\n",
      " [ 0.          0.          0.02884615  0.          0.03846154  0.02884615\n",
      "   0.          0.09615385  0.01923077  0.78846154]]\n"
     ]
    },
    {
     "data": {
      "image/png": "[encoded data removed]",
      "text/plain": [
       "<matplotlib.figure.Figure at 0x111495c90>"
      ]
     },
     "metadata": {},
     "output_type": "display_data"
    },
    {
     "name": "stdout",
     "output_type": "stream",
     "text": [
      "we're on sample:\n",
      "2000\n",
      "Normalized confusion matrix\n",
      "[[ 0.91203704  0.          0.00462963  0.          0.01388889  0.01388889\n",
      "   0.00925926  0.00925926  0.01388889  0.02314815]\n",
      " [ 0.          0.86792453  0.01886792  0.01132075  0.00754717  0.01132075\n",
      "   0.02264151  0.01132075  0.04528302  0.00377358]\n",
      " [ 0.          0.01657459  0.76243094  0.03314917  0.02209945  0.02209945\n",
      "   0.06077348  0.02762431  0.04972376  0.00552486]\n",
      " [ 0.01025641  0.01025641  0.00512821  0.8         0.00512821  0.05641026\n",
      "   0.00512821  0.02051282  0.07179487  0.01538462]\n",
      " [ 0.          0.0046729   0.01869159  0.          0.87383178  0.00934579\n",
      "   0.00934579  0.01869159  0.01401869  0.05140187]\n",
      " [ 0.          0.          0.          0.04278075  0.00534759  0.85026738\n",
      "   0.02139037  0.00534759  0.06417112  0.01069519]\n",
      " [ 0.03550296  0.          0.02366864  0.          0.00591716  0.01775148\n",
      "   0.88757396  0.          0.0295858   0.        ]\n",
      " [ 0.00546448  0.          0.          0.03278689  0.          0.\n",
      "   0.00546448  0.8852459   0.01639344  0.05464481]\n",
      " [ 0.01162791  0.01162791  0.01162791  0.05813953  0.          0.01744186\n",
      "   0.          0.01744186  0.86046512  0.01162791]\n",
      " [ 0.00458716  0.          0.00458716  0.02293578  0.05963303  0.\n",
      "   0.00458716  0.05963303  0.03211009  0.81192661]]\n"
     ]
    },
    {
     "data": {
      "image/png": "[encoded data removed]",
      "text/plain": [
       "<matplotlib.figure.Figure at 0x10f7cb290>"
      ]
     },
     "metadata": {},
     "output_type": "display_data"
    },
    {
     "name": "stdout",
     "output_type": "stream",
     "text": [
      "we're on sample:\n",
      "5000\n",
      "Normalized confusion matrix\n",
      "[[ 0.91035857  0.          0.01195219  0.01394422  0.00398406  0.01992032\n",
      "   0.01593625  0.00199203  0.01394422  0.00796813]\n",
      " [ 0.          0.88943089  0.01300813  0.01138211  0.00650407  0.01626016\n",
      "   0.00487805  0.01138211  0.03577236  0.01138211]\n",
      " [ 0.00716846  0.00358423  0.83691756  0.03584229  0.01971326  0.01075269\n",
      "   0.02508961  0.02150538  0.02329749  0.01612903]\n",
      " [ 0.00393701  0.          0.01574803  0.84448819  0.0019685   0.06692913\n",
      "   0.          0.01377953  0.03937008  0.01377953]\n",
      " [ 0.00189394  0.00378788  0.02083333  0.00189394  0.84280303  0.03219697\n",
      "   0.02462121  0.0094697   0.00189394  0.06060606]\n",
      " [ 0.01804124  0.00257732  0.          0.07474227  0.00515464  0.80927835\n",
      "   0.00773196  0.00257732  0.07216495  0.00773196]\n",
      " [ 0.01476793  0.          0.02320675  0.00843882  0.02109705  0.01898734\n",
      "   0.9092827   0.          0.00421941  0.        ]\n",
      " [ 0.          0.          0.01207243  0.01006036  0.01408451  0.00201207\n",
      "   0.00201207  0.91549296  0.00402414  0.04024145]\n",
      " [ 0.00428266  0.02569593  0.01927195  0.04282655  0.00642398  0.02569593\n",
      "   0.00642398  0.00642398  0.85224839  0.01070664]\n",
      " [ 0.          0.00647948  0.00647948  0.00863931  0.04319654  0.01295896\n",
      "   0.          0.05831533  0.01943844  0.84449244]]\n"
     ]
    },
    {
     "data": {
      "image/png": "[encoded data removed]",
      "text/plain": [
       "<matplotlib.figure.Figure at 0x11019eb10>"
      ]
     },
     "metadata": {},
     "output_type": "display_data"
    },
    {
     "name": "stdout",
     "output_type": "stream",
     "text": [
      "we're on sample:\n",
      "10000\n",
      "Normalized confusion matrix\n",
      "[[ 0.93146718  0.          0.01447876  0.00675676  0.003861    0.01254826\n",
      "   0.00772201  0.00289575  0.01158301  0.00868726]\n",
      " [ 0.00175131  0.92119089  0.01050788  0.00875657  0.00350263  0.00700525\n",
      "   0.0061296   0.00525394  0.02889667  0.00700525]\n",
      " [ 0.00280899  0.00093633  0.86610487  0.0252809   0.01404494  0.01404494\n",
      "   0.01872659  0.01685393  0.03558052  0.00561798]\n",
      " [ 0.00561798  0.00374532  0.03183521  0.82022472  0.00280899  0.05992509\n",
      "   0.00093633  0.01217228  0.04775281  0.01498127]\n",
      " [ 0.00367309  0.00275482  0.02571166  0.00275482  0.83654729  0.0137741\n",
      "   0.01561065  0.02020202  0.01101928  0.06795225]\n",
      " [ 0.01603666  0.00687285  0.00801833  0.06071019  0.00114548  0.81328751\n",
      "   0.01718213  0.00687285  0.06414662  0.00572738]\n",
      " [ 0.00326087  0.00108696  0.02391304  0.00326087  0.01086957  0.01195652\n",
      "   0.92717391  0.          0.0173913   0.00108696]\n",
      " [ 0.          0.00194363  0.00874636  0.00291545  0.00777454  0.\n",
      "   0.00097182  0.89018465  0.00777454  0.07968902]\n",
      " [ 0.00349243  0.01979045  0.01513388  0.03608847  0.00232829  0.0314319\n",
      "   0.00349243  0.00465658  0.8766007   0.00698487]\n",
      " [ 0.          0.          0.00218341  0.00873362  0.05349345  0.00873362\n",
      "   0.          0.08078603  0.01965066  0.82641921]]\n"
     ]
    },
    {
     "data": {
      "image/png": "[encoded data removed]",
      "text/plain": [
       "<matplotlib.figure.Figure at 0x109de9190>"
      ]
     },
     "metadata": {},
     "output_type": "display_data"
    }
   ],
   "source": [
    "for nSample in numSamples:\n",
    "    print \"we're on sample:\"\n",
    "    print nSample\n",
    "    randomTrain = random.sample(range(0,50000), nSample) \n",
    "    randomValidate = random.sample(range(0,10000), nSample)\n",
    "\n",
    "    storedTrain = np.zeros((nSample,784))\n",
    "    storedTrainLabels = np.zeros(nSample)\n",
    "\n",
    "    ##for problem 2\n",
    "    storedValidate = np.zeros((nSample,784)) \n",
    "    storedValidateLabels = np.zeros(nSample)\n",
    "    \n",
    "    stoInd = 0\n",
    "    for ranT in range(0,nSample):\n",
    "        storedTrain[stoInd] = new_training_data[randomTrain[ranT], :]\n",
    "        storedTrainLabels[stoInd] = training_labels[randomTrain[ranT]]\n",
    "        \n",
    "        storedValidate[stoInd] = validation_data[randomValidate[ranT], :]\n",
    "        storedValidateLabels[stoInd] = validation_labels[randomValidate[ranT]]\n",
    "        \n",
    "        if nSample == 10000:\n",
    "            training10000.append(storedTrain)\n",
    "            training10000.append(storedTrainLabels)\n",
    "        \n",
    "        stoInd = stoInd + 1\n",
    "\n",
    "    ##train and validate set\n",
    "    clf = svm.SVC(decision_function_shape='ovo', kernel='linear')\n",
    "    clf.fit(storedTrain, storedTrainLabels)\n",
    "    score = clf.score(validation_data, validation_labels) ##calcualtes score of cross-validation --> 1- error rate\n",
    "    storedErrorRates.append(np.float(1)-score)\n",
    "    \n",
    "    ##### calculating predcitions for the confusion matrix\n",
    "    predict = clf.predict(storedValidate) #will use validation set\n",
    "    cm = confusion_matrix(predict, storedValidateLabels)\n",
    "    cm_normalized = cm.astype('float') / cm.sum(axis=1)[:, np.newaxis]\n",
    "    print('Normalized confusion matrix')\n",
    "    print cm_normalized\n",
    "    ##need to plot the confusion matrices\n",
    "    plt.figure()\n",
    "    plot_confusion_matrix(cm, title='Normalized confusion matrix')\n",
    "    plt.show()\n",
    "    \n",
    "    "
   ]
  },
  {
   "cell_type": "markdown",
   "metadata": {},
   "source": [
    "##Confusion Matrices\n",
    "###The above confusion matrices allow for us to see which digits are more incorrectly/correctly classified than others. The more heavily shaded squares indicate those that have been classified properly, and lie along the diagonal of the matrix. As the number of samples increase, this diagonal becomes shaded more heavily, indicating that the validation results in a lower error rate with an increasing number of samples. This allows for us to notice certain digits that are continuously miscategorized by the algorithm, and to add features that may allow for these digits to be better classified. "
   ]
  },
  {
   "cell_type": "markdown",
   "metadata": {},
   "source": [
    "##Validation Error Rate\n",
    "###The following plot was created using the error rate calculated from training the SVM on varying sample sets and a validation set of 10,000. As expected, the validation becomes better with an increased number of training samples until increasing the number of training samples no longer has a positive effect on the error rate. "
   ]
  },
  {
   "cell_type": "code",
   "execution_count": 73,
   "metadata": {
    "collapsed": false
   },
   "outputs": [
    {
     "data": {
      "image/png": "[encoded data removed]",
      "text/plain": [
       "<matplotlib.figure.Figure at 0x10f6b5e10>"
      ]
     },
     "metadata": {},
     "output_type": "display_data"
    }
   ],
   "source": [
    "### need to plot error rate vs. number of samples\n",
    "plt.plot(numSamples, storedErrorRates,'ro')\n",
    "plt.xlabel('Number of Training Samples Used to Validate')\n",
    "plt.ylabel('Error Rate of Validation')\n",
    "plt.title('Validating Training of Digit Classifier')\n",
    "axes = plt.gca()\n",
    "axes.set_xlim([0,12000])\n",
    "plt.show()"
   ]
  },
  {
   "cell_type": "markdown",
   "metadata": {},
   "source": [
    "## Problem 3 & Problem 4\n",
    "### The following segments of code generate k-fold cross validation scores for the 10,000 sample digit training set and the spam-ham dataset. "
   ]
  },
  {
   "cell_type": "markdown",
   "metadata": {},
   "source": [
    "### K-fold Cross validation is important as it prevents over-fitting. The process takes the training data and splits it into k parts, with each part being a part of the training and the validation set. As the hyperparameter C is manually chosen, by running k-fold cross validation, it allows us to see how the model would fit for digit data in general rather than the training data that is given. "
   ]
  },
  {
   "cell_type": "code",
   "execution_count": 74,
   "metadata": {
    "collapsed": true
   },
   "outputs": [],
   "source": [
    "def kFold_crossValidation(data, cValue, k): #data is a tuple of training data and labels\n",
    "    splitEntriesData = np.split(data[0], k) #results in an np.array of k np.arrays\n",
    "    splitEntriesLabel = np.split(data[1],k)\n",
    "    kFoldScores = []\n",
    "    ind = 0\n",
    "    while ind < k:\n",
    "        #want to train& fit data on k-1 entries, validate on kth entry\n",
    "        validationData = splitEntriesData[ind]\n",
    "        validationLabels = splitEntriesLabel[ind]\n",
    "        trainingData = np.array([]) \n",
    "        trainingLabels = np.array([])\n",
    "        for splitE in range(k):\n",
    "            if splitE != ind:\n",
    "                if len(trainingData) == 0:\n",
    "                    trainingData = splitEntriesData[splitE]\n",
    "                    trainingLabels = splitEntriesLabel[splitE]\n",
    "                else:\n",
    "                    trainingData = np.vstack((trainingData, splitEntriesData[splitE]))\n",
    "                    trainingLabels = np.append(trainingLabels, splitEntriesLabel[splitE])\n",
    "        ##fit data\n",
    "        clf2 = svm.SVC(decision_function_shape='ovo', kernel='linear', C=cValue)\n",
    "        clf2.fit(trainingData, trainingLabels)\n",
    "        score = clf2.score(splitEntriesData[ind], splitEntriesLabel[ind]) ##calcualtes score of cross-validation --> 1- error rate\n",
    "        kFoldScores.append(score)\n",
    "        \n",
    "        ind = ind + 1\n",
    "    \n",
    "    return kFoldScores\n"
   ]
  },
  {
   "cell_type": "markdown",
   "metadata": {},
   "source": [
    "#### The following k-fold cross validation and results were found for the 10,000 samples of the digit dataset. "
   ]
  },
  {
   "cell_type": "code",
   "execution_count": 75,
   "metadata": {
    "collapsed": false
   },
   "outputs": [
    {
     "name": "stdout",
     "output_type": "stream",
     "text": [
      "[0.90800000000000003, 0.93999999999999995, 0.90900000000000003, 0.90800000000000003, 0.91000000000000003, 0.90300000000000002, 0.90500000000000003, 0.89700000000000002, 0.90900000000000003, 0.89400000000000002]\n"
     ]
    }
   ],
   "source": [
    "##need to validate the 10000 data set\n",
    "validationOf10000 = kFold_crossValidation(training10000, 0.000001, 10)\n",
    "print validationOf10000"
   ]
  },
  {
   "cell_type": "code",
   "execution_count": 76,
   "metadata": {
    "collapsed": false
   },
   "outputs": [
    {
     "name": "stdout",
     "output_type": "stream",
     "text": [
      "0.9043\n"
     ]
    }
   ],
   "source": [
    "##need to make sure that the c-value generalizes to all possible data\n",
    "clf_digit_validate_cvalue = svm.SVC(decision_function_shape='ovo', kernel='linear', C=0.000001)\n",
    "clf_digit_validate_cvalue.fit(training10000[0],training10000[1])\n",
    "print clf_digit_validate_cvalue.score(validation_data, validation_labels)"
   ]
  },
  {
   "cell_type": "markdown",
   "metadata": {},
   "source": [
    "## Problem 3 - Digit Dataset Kaggle Training"
   ]
  },
  {
   "cell_type": "markdown",
   "metadata": {},
   "source": [
    "### The following sections of code are used to train the SVM model found from performing k-fold cross validation on the entire digit dataset. "
   ]
  },
  {
   "cell_type": "code",
   "execution_count": 77,
   "metadata": {
    "collapsed": false
   },
   "outputs": [],
   "source": [
    "##testing for kaggle\n",
    "clf_digit_kaggle = svm.SVC(decision_function_shape='ovo', kernel='linear', C=0.000001)\n",
    "clf_digit_kaggle.fit(training10000[0], training10000[1])\n",
    "digit_predictions = clf_digit_kaggle.predict(digit_testing_flattened)"
   ]
  },
  {
   "cell_type": "code",
   "execution_count": 78,
   "metadata": {
    "collapsed": false
   },
   "outputs": [],
   "source": [
    "with open('results/digit_predictions.csv', 'w') as csvfile:\n",
    "    writer = csv.writer(csvfile)\n",
    "    writer.writerow(['Id','Category'])\n",
    "    d = 1\n",
    "    for digpred in digit_predictions:\n",
    "        writer.writerow([d,int(digpred)])\n",
    "        d = d+ 1"
   ]
  },
  {
   "cell_type": "markdown",
   "metadata": {},
   "source": [
    "#### The highest Kaggle score attained by the above model for the digit dataset is 0.91300. "
   ]
  },
  {
   "cell_type": "markdown",
   "metadata": {},
   "source": [
    "## Problem 4 "
   ]
  },
  {
   "cell_type": "markdown",
   "metadata": {},
   "source": [
    "### The following sections of code are used to perform k-fold cross validation on the spam-ham data set. "
   ]
  },
  {
   "cell_type": "code",
   "execution_count": 79,
   "metadata": {
    "collapsed": false
   },
   "outputs": [],
   "source": [
    "###need to separate data set into training and validation -- will use 75% for training, 25% for validation\n",
    "numValidation = 1302\n",
    "numTraining = spam_ham_training.shape[0]- numValidation\n",
    "\n",
    "validation_indeces_spam = random.sample(range(0,spam_ham_training.shape[0]), numValidation)\n",
    "\n",
    "storedTrain_spam = np.zeros((numTraining,spam_ham_training.shape[1]))\n",
    "storedTrainLabels_spam = np.zeros(numTraining)\n",
    "\n",
    "storedValidate_spam = np.zeros((numValidation,spam_ham_training.shape[1])) \n",
    "storedValidateLabels_spam = np.zeros(numValidation)\n",
    "    \n",
    "stVal_sp = 0\n",
    "stTra_sp = 0\n",
    "for ind_spam in range(spam_ham_training.shape[0]):\n",
    "    if ind_spam in validation_indeces_spam:\n",
    "        storedValidate_spam[stVal_sp] = spam_ham_training[ind_spam, :]\n",
    "        storedValidateLabels_spam[stVal_sp] = spam_ham_labels[0][ind_spam]\n",
    "        stVal_sp = stVal_sp + 1 \n",
    "    else:\n",
    "        storedTrain_spam[stTra_sp] = spam_ham_training[ind_spam,:]\n",
    "        storedTrainLabels_spam[stTra_sp] = spam_ham_labels[0][ind_spam]\n",
    "        stTra_sp = stTra_sp + 1        \n"
   ]
  },
  {
   "cell_type": "code",
   "execution_count": 85,
   "metadata": {
    "collapsed": false
   },
   "outputs": [
    {
     "name": "stdout",
     "output_type": "stream",
     "text": [
      "[0.26356589147286824, 0.31266149870801035, 0.4289405684754522, 0.96640826873385011, 0.97674418604651159, 0.9715762273901809, 0.95348837209302328, 0.98449612403100772, 0.93540051679586567, 0.91214470284237725]\n"
     ]
    }
   ],
   "source": [
    "###want to perform cross validation on trianing set for spam and ham data \n",
    "validationOfSpamHam = kFold_crossValidation([storedTrain_spam, storedTrainLabels_spam], 30, 10)\n",
    "print validationOfSpamHam"
   ]
  },
  {
   "cell_type": "code",
   "execution_count": 89,
   "metadata": {
    "collapsed": false
   },
   "outputs": [
    {
     "name": "stdout",
     "output_type": "stream",
     "text": [
      "0.806451612903\n"
     ]
    }
   ],
   "source": [
    "##need to make sure that the c-value generalizes to all possible data\n",
    "clf_spam_validate_cvalue = svm.SVC(decision_function_shape='ovo', kernel='linear', C=30)\n",
    "clf_spam_validate_cvalue.fit(storedTrain_spam,storedTrainLabels_spam)\n",
    "print clf_spam_validate_cvalue.score(storedValidate_spam, storedValidateLabels_spam)"
   ]
  },
  {
   "cell_type": "markdown",
   "metadata": {},
   "source": [
    "### Train the SVM found from performing k-fold cross validation on the spam-ham dataset. "
   ]
  },
  {
   "cell_type": "code",
   "execution_count": 82,
   "metadata": {
    "collapsed": true
   },
   "outputs": [],
   "source": [
    "###want to train model on all of dataset for spam/ham\n",
    "spam_ham_test = spam_ham_data['test_data']"
   ]
  },
  {
   "cell_type": "code",
   "execution_count": 83,
   "metadata": {
    "collapsed": false
   },
   "outputs": [],
   "source": [
    "clf_ham_kaggle = svm.SVC(decision_function_shape='ovo', kernel='linear', C=30)\n",
    "clf_ham_kaggle.fit(spam_ham_training, spam_ham_labels[0])\n",
    "spam_ham_predictions = clf_ham_kaggle.predict(spam_ham_test) \n"
   ]
  },
  {
   "cell_type": "code",
   "execution_count": 84,
   "metadata": {
    "collapsed": true
   },
   "outputs": [],
   "source": [
    "with open('results/spam_ham_predictions.csv', 'w') as csvfile:\n",
    "    writer = csv.writer(csvfile)\n",
    "    writer.writerow(['Id','Category'])\n",
    "    sh = 1\n",
    "    for sphpred in spam_ham_predictions:\n",
    "        writer.writerow([sh,int(sphpred)])\n",
    "        sh = sh + 1"
   ]
  },
  {
   "cell_type": "markdown",
   "metadata": {},
   "source": [
    "#### The highest kaggle score found from the above model for spam-ham dataset is 0.737."
   ]
  }
 ],
 "metadata": {
  "kernelspec": {
   "display_name": "Python 2",
   "language": "python",
   "name": "python2"
  },
  "language_info": {
   "codemirror_mode": {
    "name": "ipython",
    "version": 2
   },
   "file_extension": ".py",
   "mimetype": "text/x-python",
   "name": "python",
   "nbconvert_exporter": "python",
   "pygments_lexer": "ipython2",
   "version": "2.7.11"
  }
 },
 "nbformat": 4,
 "nbformat_minor": 0
}
